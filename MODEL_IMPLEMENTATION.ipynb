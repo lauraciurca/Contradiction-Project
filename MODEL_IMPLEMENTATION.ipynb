{
  "nbformat": 4,
  "nbformat_minor": 0,
  "metadata": {
    "colab": {
      "name": "MODEL_IMPLEMENTATION.ipynb",
      "provenance": [],
      "collapsed_sections": [],
      "include_colab_link": true
    },
    "kernelspec": {
      "display_name": "Python 3",
      "name": "python3"
    },
    "language_info": {
      "name": "python"
    }
  },
  "cells": [
    {
      "cell_type": "markdown",
      "metadata": {
        "id": "view-in-github",
        "colab_type": "text"
      },
      "source": [
        "<a href=\"https://colab.research.google.com/github/lauraciurca/Contradiction-Project/blob/main/MODEL_IMPLEMENTATION.ipynb\" target=\"_parent\"><img src=\"https://colab.research.google.com/assets/colab-badge.svg\" alt=\"Open In Colab\"/></a>"
      ]
    },
    {
      "cell_type": "markdown",
      "metadata": {
        "id": "H0iiwXEpbkjb"
      },
      "source": [
        "**Data Preparation**"
      ]
    },
    {
      "cell_type": "markdown",
      "metadata": {
        "id": "yLIXS3zLbp1c"
      },
      "source": [
        "Libraries"
      ]
    },
    {
      "cell_type": "code",
      "metadata": {
        "colab": {
          "base_uri": "https://localhost:8080/"
        },
        "id": "LV98gZ6lmRQy",
        "outputId": "110d12e8-9612-4a6c-fce0-0b77897e1bab"
      },
      "source": [
        "from google.colab import drive\n",
        "import pandas as pd\n",
        "import numpy as np\n",
        "from sklearn.pipeline import Pipeline\n",
        "from sklearn.tree import DecisionTreeClassifier, export_graphviz\n",
        "from sklearn.model_selection import GridSearchCV\n",
        "from sklearn import pipeline,metrics\n",
        "from sklearn.metrics import f1_score,precision_score\n",
        "from sklearn.model_selection import cross_val_score\n",
        "import matplotlib.pyplot as plt\n",
        "from sklearn.metrics import classification_report\n",
        "from sklearn import tree\n",
        "import pydotplus\n",
        "import matplotlib.image as pltimg\n",
        "from IPython.display import Image \n",
        "import sklearn.model_selection as model_selection\n",
        "from sklearn.metrics import confusion_matrix\n",
        "from sklearn.ensemble import RandomForestClassifier\n",
        "from matplotlib import pyplot\n",
        "import pydot\n",
        "from sklearn.feature_extraction.text import TfidfTransformer\n",
        "from sklearn.feature_extraction.text import TfidfVectorizer\n",
        "import gensim\n",
        "from gensim import models\n",
        "import nltk\n",
        "nltk.download('punkt')\n",
        "nltk.download('stopwords')\n",
        "from nltk.tokenize import word_tokenize\n",
        "from nltk.corpus import stopwords\n",
        "!pip install stc\n",
        "import pandas as pd\n",
        "from stc import SparseTensorClassifier\n",
        "from keras.layers.embeddings import Embedding\n",
        "import keras\n",
        "from sklearn.metrics import accuracy_score\n",
        "from numpy import loadtxt\n",
        "from keras.models import Sequential\n",
        "from keras.layers import Dense\n",
        "from keras.wrappers.scikit_learn import KerasClassifier\n",
        "from sklearn.model_selection import StratifiedKFold\n",
        "from sklearn.metrics import accuracy_score\n",
        "from sklearn.metrics import precision_score\n",
        "from sklearn.metrics import recall_score\n",
        "from sklearn.metrics import f1_score\n",
        "from matplotlib import pyplot\n",
        "from sklearn.tree import export_graphviz\n",
        "import pydot\n",
        "from nltk import ngrams"
      ],
      "execution_count": 1,
      "outputs": [
        {
          "output_type": "stream",
          "name": "stdout",
          "text": [
            "[nltk_data] Downloading package punkt to /root/nltk_data...\n",
            "[nltk_data]   Package punkt is already up-to-date!\n",
            "[nltk_data] Downloading package stopwords to /root/nltk_data...\n",
            "[nltk_data]   Package stopwords is already up-to-date!\n",
            "Requirement already satisfied: stc in /usr/local/lib/python3.7/dist-packages (0.3.1)\n",
            "Requirement already satisfied: sqlalchemy in /usr/local/lib/python3.7/dist-packages (from stc) (1.4.25)\n",
            "Requirement already satisfied: numpy in /usr/local/lib/python3.7/dist-packages (from stc) (1.19.5)\n",
            "Requirement already satisfied: pandas in /usr/local/lib/python3.7/dist-packages (from stc) (1.1.5)\n",
            "Requirement already satisfied: pytz>=2017.2 in /usr/local/lib/python3.7/dist-packages (from pandas->stc) (2018.9)\n",
            "Requirement already satisfied: python-dateutil>=2.7.3 in /usr/local/lib/python3.7/dist-packages (from pandas->stc) (2.8.2)\n",
            "Requirement already satisfied: six>=1.5 in /usr/local/lib/python3.7/dist-packages (from python-dateutil>=2.7.3->pandas->stc) (1.15.0)\n",
            "Requirement already satisfied: greenlet!=0.4.17 in /usr/local/lib/python3.7/dist-packages (from sqlalchemy->stc) (1.1.2)\n",
            "Requirement already satisfied: importlib-metadata in /usr/local/lib/python3.7/dist-packages (from sqlalchemy->stc) (4.8.1)\n",
            "Requirement already satisfied: zipp>=0.5 in /usr/local/lib/python3.7/dist-packages (from importlib-metadata->sqlalchemy->stc) (3.6.0)\n",
            "Requirement already satisfied: typing-extensions>=3.6.4 in /usr/local/lib/python3.7/dist-packages (from importlib-metadata->sqlalchemy->stc) (3.7.4.3)\n"
          ]
        }
      ]
    },
    {
      "cell_type": "code",
      "metadata": {
        "colab": {
          "base_uri": "https://localhost:8080/"
        },
        "id": "DYTXXYUzmRI0",
        "outputId": "e9d93a5e-cdd6-42af-9d79-b35e8d6286a0"
      },
      "source": [
        "#connect to drive to access data\n",
        "drive.mount('/content/drive')"
      ],
      "execution_count": 2,
      "outputs": [
        {
          "output_type": "stream",
          "name": "stdout",
          "text": [
            "Mounted at /content/drive\n"
          ]
        }
      ]
    },
    {
      "cell_type": "markdown",
      "metadata": {
        "id": "XOWBORahbsCF"
      },
      "source": [
        "Data Import"
      ]
    },
    {
      "cell_type": "code",
      "metadata": {
        "id": "ik299xM878VS"
      },
      "source": [
        "data_train=pd.read_csv('/content/drive/MyDrive/Information Retrieval/data_train (1).csv')  #premise,hypothesis\n",
        "data_test=pd.read_csv('/content/drive/MyDrive/Information Retrieval/data_test (1).csv')    #premise,hypothesis\n",
        "train=pd.read_csv('/content/drive/MyDrive/Information Retrieval/train (2).csv') \n",
        "test=pd.read_csv('/content/drive/MyDrive/Information Retrieval/test (2).csv')   "
      ],
      "execution_count": 2,
      "outputs": []
    },
    {
      "cell_type": "code",
      "metadata": {
        "id": "EYgURae8gDY8"
      },
      "source": [
        "train = train.iloc[: , 1:]\n",
        "test = test.iloc[: , 1:]"
      ],
      "execution_count": 3,
      "outputs": []
    },
    {
      "cell_type": "code",
      "metadata": {
        "id": "n6Htmg9l-5uQ"
      },
      "source": [
        "train=train[[\"antonym_negation\",\"sentence_sim\",\"cosine_similarity\",\"jaccard\",\"subject_sim\",\"polarity\",\"polarity_difference\",\"label\"]]\n",
        "test=test[[\"antonym_negation\",\"sentence_sim\",\"cosine_similarity\",\"jaccard\",\"subject_sim\",\"polarity\",\"polarity_difference\"]]"
      ],
      "execution_count": 4,
      "outputs": []
    },
    {
      "cell_type": "code",
      "metadata": {
        "id": "ZjxIURMjdsrm"
      },
      "source": [
        "training_set = train.dropna()\n",
        "test_set= test.dropna()"
      ],
      "execution_count": 5,
      "outputs": []
    },
    {
      "cell_type": "code",
      "metadata": {
        "id": "9T-ykN6JtRbE"
      },
      "source": [
        "training_set['label'] = training_set['label'].replace([0, 1],0)"
      ],
      "execution_count": 6,
      "outputs": []
    },
    {
      "cell_type": "code",
      "metadata": {
        "id": "p1B7H4cJGYsZ"
      },
      "source": [
        "data_train = data_train.iloc[: , 1:]\n",
        "data_test = data_test.iloc[: , 1:]"
      ],
      "execution_count": 7,
      "outputs": []
    },
    {
      "cell_type": "code",
      "metadata": {
        "id": "7sHEHC5_KHQe"
      },
      "source": [
        "data_train['label'] = data_train['label'].replace([0, 1],0)"
      ],
      "execution_count": 8,
      "outputs": []
    },
    {
      "cell_type": "markdown",
      "metadata": {
        "id": "UEfQew4zbz6n"
      },
      "source": [
        "Data Standardization and Data Split into Training and Testing Set"
      ]
    },
    {
      "cell_type": "code",
      "metadata": {
        "id": "KUgW_ajxVyw7"
      },
      "source": [
        "#Standardization\n",
        "def standardized_dataset(dataset):\n",
        "     m = dataset.apply(lambda x: ((x-np.mean(x))/np.std(x)))\n",
        "     return m"
      ],
      "execution_count": 10,
      "outputs": []
    },
    {
      "cell_type": "code",
      "metadata": {
        "id": "2I48Znp3Vz27"
      },
      "source": [
        "#Normalization\n",
        "def normalize_dataset(dataset):\n",
        "    f = dataset.apply(lambda x: (x-min(x))/(max(x)-min(x)))\n",
        "    return f"
      ],
      "execution_count": 11,
      "outputs": []
    },
    {
      "cell_type": "code",
      "metadata": {
        "id": "P6KD3QA9V1lj"
      },
      "source": [
        "test_set= standardized_dataset(test_set)"
      ],
      "execution_count": 46,
      "outputs": []
    },
    {
      "cell_type": "code",
      "metadata": {
        "id": "yDnhDN6W-qJP"
      },
      "source": [
        "y=training_set[\"label\"]\n",
        "training_set.drop(['label'],axis=1,inplace=True)"
      ],
      "execution_count": 47,
      "outputs": []
    },
    {
      "cell_type": "code",
      "metadata": {
        "id": "wSVWSmd3AsNm"
      },
      "source": [
        "x = training_set\n",
        "x=standardized_dataset(x)\n",
        "x_train,x_test,y_train,y_test = model_selection.train_test_split(x,y,test_size=0.2,random_state=4)"
      ],
      "execution_count": 48,
      "outputs": []
    },
    {
      "cell_type": "markdown",
      "metadata": {
        "id": "4U2rUYMeXJ9z"
      },
      "source": [
        "Word2Vec"
      ]
    },
    {
      "cell_type": "code",
      "metadata": {
        "colab": {
          "base_uri": "https://localhost:8080/"
        },
        "id": "sAA4Fv8fXJ9z",
        "outputId": "082ceab8-df3a-48a2-df42-3026c6d8b768"
      },
      "source": [
        "nltk.download('stopwords')\n",
        "stop_words = set(stopwords.words('english'))"
      ],
      "execution_count": 9,
      "outputs": [
        {
          "output_type": "stream",
          "name": "stdout",
          "text": [
            "[nltk_data] Downloading package stopwords to /root/nltk_data...\n",
            "[nltk_data]   Package stopwords is already up-to-date!\n"
          ]
        }
      ]
    },
    {
      "cell_type": "code",
      "metadata": {
        "colab": {
          "base_uri": "https://localhost:8080/"
        },
        "id": "U1pmrnWJXJ9z",
        "outputId": "0186e8d7-b4b6-41c2-9f4a-c7f09a29c34e"
      },
      "source": [
        "!pip install pyemd\n",
        "!wget -c \"https://s3.amazonaws.com/dl4j-distribution/GoogleNews-vectors-negative300.bin.gz\"\n",
        "!gzip -d GoogleNews-vectors-negative300.bin.gz"
      ],
      "execution_count": 10,
      "outputs": [
        {
          "output_type": "stream",
          "name": "stdout",
          "text": [
            "Requirement already satisfied: pyemd in /usr/local/lib/python3.7/dist-packages (0.5.1)\n",
            "Requirement already satisfied: numpy<2.0.0,>=1.9.0 in /usr/local/lib/python3.7/dist-packages (from pyemd) (1.19.5)\n",
            "--2021-10-25 20:17:56--  https://s3.amazonaws.com/dl4j-distribution/GoogleNews-vectors-negative300.bin.gz\n",
            "Resolving s3.amazonaws.com (s3.amazonaws.com)... 52.216.105.189\n",
            "Connecting to s3.amazonaws.com (s3.amazonaws.com)|52.216.105.189|:443... connected.\n",
            "HTTP request sent, awaiting response... 200 OK\n",
            "Length: 1647046227 (1.5G) [application/x-gzip]\n",
            "Saving to: ‘GoogleNews-vectors-negative300.bin.gz’\n",
            "\n",
            "GoogleNews-vectors- 100%[===================>]   1.53G  33.9MB/s    in 47s     \n",
            "\n",
            "2021-10-25 20:18:44 (33.2 MB/s) - ‘GoogleNews-vectors-negative300.bin.gz’ saved [1647046227/1647046227]\n",
            "\n",
            "gzip: GoogleNews-vectors-negative300.bin already exists; do you wish to overwrite (y or n)? n\n",
            "\tnot overwritten\n"
          ]
        }
      ]
    },
    {
      "cell_type": "code",
      "metadata": {
        "id": "_hF-HD1eXJ90"
      },
      "source": [
        "model = gensim.models.KeyedVectors.load_word2vec_format('GoogleNews-vectors-negative300.bin', binary=True)"
      ],
      "execution_count": 11,
      "outputs": []
    },
    {
      "cell_type": "code",
      "metadata": {
        "id": "4NfNvWZNXJ90"
      },
      "source": [
        "train_w2v=data_train.copy()"
      ],
      "execution_count": 12,
      "outputs": []
    },
    {
      "cell_type": "code",
      "metadata": {
        "id": "cNfSvWeYXJ90"
      },
      "source": [
        "train_w2v[\"period\"] = train_w2v[\"premise\"] + train_w2v[\"hypothesis\"]"
      ],
      "execution_count": 13,
      "outputs": []
    },
    {
      "cell_type": "code",
      "metadata": {
        "id": "w_8CwcwHGszh"
      },
      "source": [
        "#train_w2v['label'] = train_w2v['label'].replace(2,1) for NN"
      ],
      "execution_count": 15,
      "outputs": []
    },
    {
      "cell_type": "code",
      "metadata": {
        "id": "8-umrMmrXJ90"
      },
      "source": [
        "sentences = train_w2v['period']\n",
        "sentence = [sentence for sentence in sentences]"
      ],
      "execution_count": 17,
      "outputs": []
    },
    {
      "cell_type": "code",
      "metadata": {
        "id": "l3JPnW7RXJ90"
      },
      "source": [
        "def preprocess(text):\n",
        "    text = text.lower()\n",
        "    doc = word_tokenize(text)\n",
        "    doc = [word for word in doc if word not in stop_words]\n",
        "    doc = [word for word in doc if word.isalpha()] \n",
        "    return doc"
      ],
      "execution_count": 18,
      "outputs": []
    },
    {
      "cell_type": "code",
      "metadata": {
        "id": "JqzkkQwMXJ90"
      },
      "source": [
        "corpus = [preprocess(sentence) for sentence in sentences]\n",
        "train_w2v[\"corpus\"]=corpus"
      ],
      "execution_count": 19,
      "outputs": []
    },
    {
      "cell_type": "code",
      "metadata": {
        "id": "lVFAcGGQXJ90"
      },
      "source": [
        "all_d=[]\n",
        "for doc in corpus:\n",
        "  d=[]\n",
        "  for word in doc:\n",
        "    if word in model.vocab:\n",
        "      d.append(word)\n",
        "  all_d.append(d)"
      ],
      "execution_count": 20,
      "outputs": []
    },
    {
      "cell_type": "code",
      "metadata": {
        "id": "B8itnUcpXJ90"
      },
      "source": [
        "train_w2v[\"all_docs\"]=all_d"
      ],
      "execution_count": 21,
      "outputs": []
    },
    {
      "cell_type": "code",
      "metadata": {
        "id": "sqnWxiI9XJ91"
      },
      "source": [
        "without_vector=[]\n",
        "for x in range(len(train_w2v)):\n",
        "  each_vec= train_w2v[\"all_docs\"][x]\n",
        "  if len(each_vec)==0:\n",
        "    without_vector.append(x)"
      ],
      "execution_count": 22,
      "outputs": []
    },
    {
      "cell_type": "code",
      "metadata": {
        "id": "aU-m38e2XJ91"
      },
      "source": [
        "modified = train_w2v.drop(without_vector)"
      ],
      "execution_count": 23,
      "outputs": []
    },
    {
      "cell_type": "code",
      "metadata": {
        "id": "pU0NgcIIXJ91"
      },
      "source": [
        "all_d = modified[\"all_docs\"]"
      ],
      "execution_count": 24,
      "outputs": []
    },
    {
      "cell_type": "code",
      "metadata": {
        "id": "nO5pU6ZBXJ91"
      },
      "source": [
        "vectors=[]\n",
        "for d in all_d:\n",
        "    vector= np.mean(model[d],axis=0,out=None)\n",
        "    vectors.append(vector)"
      ],
      "execution_count": 25,
      "outputs": []
    },
    {
      "cell_type": "code",
      "metadata": {
        "id": "zzT5afyVXJ91"
      },
      "source": [
        "x_train_w2v = vectors[:5000]\n",
        "x_test_w2v = vectors[5000:]"
      ],
      "execution_count": 26,
      "outputs": []
    },
    {
      "cell_type": "code",
      "metadata": {
        "id": "LTLhaJiXXJ91"
      },
      "source": [
        "y_train_w2v = modified.label[:5000].values\n",
        "y_test_w2v = modified.label[5000:].values"
      ],
      "execution_count": 27,
      "outputs": []
    },
    {
      "cell_type": "markdown",
      "metadata": {
        "id": "psvp_ROPBVNF"
      },
      "source": [
        "**Decision Tree**"
      ]
    },
    {
      "cell_type": "code",
      "metadata": {
        "colab": {
          "base_uri": "https://localhost:8080/"
        },
        "id": "C7OvzyBeAvSQ",
        "outputId": "67b8222d-5189-402a-9326-d3aab0ed1301"
      },
      "source": [
        "Kfold=[0.10,0.40,0.50,0.80]\n",
        "score=[]\n",
        "for i in Kfold:\n",
        "  lr = DecisionTreeClassifier()\n",
        "  clf = pipeline.Pipeline([('lr', lr)])\n",
        "\n",
        "  param_grid = {'lr__criterion':['gini','entropy'],'lr__max_depth':[2,3,4,5]}\n",
        "\n",
        "  f_scorer = metrics.make_scorer(f1_score, greater_is_better = True)\n",
        "\n",
        "  model = GridSearchCV(estimator = clf, param_grid=param_grid, scoring=\"f1_weighted\",\n",
        "                                     verbose=10, n_jobs=-1, iid=True, refit=True, cv=10)\n",
        "\n",
        "\n",
        "\n",
        "  model.fit(x_train, y_train)\n",
        "  print('test size',i)\n",
        "  print(\"Best score: %0.3f\" % model.best_score_)\n",
        "\n",
        "  print(\"Best parameters set:\")\n",
        "  best_parameters = model.best_estimator_.get_params()\n",
        "  for param_name in sorted(param_grid.keys()):\n",
        "  \tprint(\"\\t%s: %r\" % (param_name, best_parameters[param_name]))\n",
        "  zzz=[model.best_score_,i,param_name,best_parameters[param_name]]\n",
        "  score.append(zzz)"
      ],
      "execution_count": null,
      "outputs": [
        {
          "name": "stdout",
          "output_type": "stream",
          "text": [
            "Fitting 10 folds for each of 8 candidates, totalling 80 fits\n"
          ]
        },
        {
          "name": "stderr",
          "output_type": "stream",
          "text": [
            "[Parallel(n_jobs=-1)]: Using backend LokyBackend with 2 concurrent workers.\n",
            "[Parallel(n_jobs=-1)]: Done   1 tasks      | elapsed:    1.3s\n",
            "[Parallel(n_jobs=-1)]: Done   4 tasks      | elapsed:    1.4s\n",
            "[Parallel(n_jobs=-1)]: Done   9 tasks      | elapsed:    1.5s\n",
            "[Parallel(n_jobs=-1)]: Done  14 tasks      | elapsed:    1.5s\n",
            "[Parallel(n_jobs=-1)]: Batch computation too fast (0.1856s.) Setting batch_size=2.\n",
            "[Parallel(n_jobs=-1)]: Batch computation too fast (0.0809s.) Setting batch_size=4.\n",
            "[Parallel(n_jobs=-1)]: Done  24 tasks      | elapsed:    1.7s\n",
            "[Parallel(n_jobs=-1)]: Batch computation too fast (0.1308s.) Setting batch_size=8.\n",
            "[Parallel(n_jobs=-1)]: Done  58 tasks      | elapsed:    2.0s\n",
            "[Parallel(n_jobs=-1)]: Done  80 out of  80 | elapsed:    2.3s finished\n",
            "/usr/local/lib/python3.7/dist-packages/sklearn/model_selection/_search.py:823: FutureWarning: The parameter 'iid' is deprecated in 0.22 and will be removed in 0.24.\n",
            "  \"removed in 0.24.\", FutureWarning\n",
            "[Parallel(n_jobs=-1)]: Using backend LokyBackend with 2 concurrent workers.\n",
            "[Parallel(n_jobs=-1)]: Done   1 tasks      | elapsed:    0.0s\n",
            "[Parallel(n_jobs=-1)]: Batch computation too fast (0.0228s.) Setting batch_size=2.\n",
            "[Parallel(n_jobs=-1)]: Done   4 tasks      | elapsed:    0.1s\n",
            "[Parallel(n_jobs=-1)]: Batch computation too fast (0.0541s.) Setting batch_size=4.\n"
          ]
        },
        {
          "name": "stdout",
          "output_type": "stream",
          "text": [
            "test size 0.1\n",
            "Best score: 0.662\n",
            "Best parameters set:\n",
            "\tlr__criterion: 'entropy'\n",
            "\tlr__max_depth: 2\n",
            "Fitting 10 folds for each of 8 candidates, totalling 80 fits\n"
          ]
        },
        {
          "name": "stderr",
          "output_type": "stream",
          "text": [
            "[Parallel(n_jobs=-1)]: Done  16 tasks      | elapsed:    0.2s\n",
            "[Parallel(n_jobs=-1)]: Batch computation too fast (0.1211s.) Setting batch_size=8.\n",
            "[Parallel(n_jobs=-1)]: Done  44 tasks      | elapsed:    0.5s\n",
            "[Parallel(n_jobs=-1)]: Done  80 out of  80 | elapsed:    0.9s finished\n",
            "/usr/local/lib/python3.7/dist-packages/sklearn/model_selection/_search.py:823: FutureWarning: The parameter 'iid' is deprecated in 0.22 and will be removed in 0.24.\n",
            "  \"removed in 0.24.\", FutureWarning\n",
            "[Parallel(n_jobs=-1)]: Using backend LokyBackend with 2 concurrent workers.\n",
            "[Parallel(n_jobs=-1)]: Done   1 tasks      | elapsed:    0.0s\n",
            "[Parallel(n_jobs=-1)]: Batch computation too fast (0.0235s.) Setting batch_size=2.\n",
            "[Parallel(n_jobs=-1)]: Done   4 tasks      | elapsed:    0.1s\n",
            "[Parallel(n_jobs=-1)]: Batch computation too fast (0.0497s.) Setting batch_size=4.\n"
          ]
        },
        {
          "name": "stdout",
          "output_type": "stream",
          "text": [
            "test size 0.4\n",
            "Best score: 0.662\n",
            "Best parameters set:\n",
            "\tlr__criterion: 'entropy'\n",
            "\tlr__max_depth: 2\n",
            "Fitting 10 folds for each of 8 candidates, totalling 80 fits\n"
          ]
        },
        {
          "name": "stderr",
          "output_type": "stream",
          "text": [
            "[Parallel(n_jobs=-1)]: Done  16 tasks      | elapsed:    0.2s\n",
            "[Parallel(n_jobs=-1)]: Batch computation too fast (0.1322s.) Setting batch_size=8.\n",
            "[Parallel(n_jobs=-1)]: Done  44 tasks      | elapsed:    0.5s\n",
            "[Parallel(n_jobs=-1)]: Done  80 out of  80 | elapsed:    0.9s finished\n",
            "/usr/local/lib/python3.7/dist-packages/sklearn/model_selection/_search.py:823: FutureWarning: The parameter 'iid' is deprecated in 0.22 and will be removed in 0.24.\n",
            "  \"removed in 0.24.\", FutureWarning\n",
            "[Parallel(n_jobs=-1)]: Using backend LokyBackend with 2 concurrent workers.\n",
            "[Parallel(n_jobs=-1)]: Done   1 tasks      | elapsed:    0.0s\n",
            "[Parallel(n_jobs=-1)]: Batch computation too fast (0.0202s.) Setting batch_size=2.\n",
            "[Parallel(n_jobs=-1)]: Done   4 tasks      | elapsed:    0.1s\n",
            "[Parallel(n_jobs=-1)]: Batch computation too fast (0.0649s.) Setting batch_size=4.\n"
          ]
        },
        {
          "name": "stdout",
          "output_type": "stream",
          "text": [
            "test size 0.5\n",
            "Best score: 0.662\n",
            "Best parameters set:\n",
            "\tlr__criterion: 'entropy'\n",
            "\tlr__max_depth: 2\n",
            "Fitting 10 folds for each of 8 candidates, totalling 80 fits\n"
          ]
        },
        {
          "name": "stderr",
          "output_type": "stream",
          "text": [
            "[Parallel(n_jobs=-1)]: Done  16 tasks      | elapsed:    0.2s\n",
            "[Parallel(n_jobs=-1)]: Batch computation too fast (0.1269s.) Setting batch_size=8.\n",
            "[Parallel(n_jobs=-1)]: Done  44 tasks      | elapsed:    0.5s\n"
          ]
        },
        {
          "name": "stdout",
          "output_type": "stream",
          "text": [
            "test size 0.8\n",
            "Best score: 0.662\n",
            "Best parameters set:\n",
            "\tlr__criterion: 'entropy'\n",
            "\tlr__max_depth: 2\n"
          ]
        },
        {
          "name": "stderr",
          "output_type": "stream",
          "text": [
            "[Parallel(n_jobs=-1)]: Done  80 out of  80 | elapsed:    0.9s finished\n",
            "/usr/local/lib/python3.7/dist-packages/sklearn/model_selection/_search.py:823: FutureWarning: The parameter 'iid' is deprecated in 0.22 and will be removed in 0.24.\n",
            "  \"removed in 0.24.\", FutureWarning\n"
          ]
        }
      ]
    },
    {
      "cell_type": "code",
      "metadata": {
        "id": "kUA6t68OBlpS"
      },
      "source": [
        "lr = DecisionTreeClassifier(criterion='entropy',max_depth=2) "
      ],
      "execution_count": null,
      "outputs": []
    },
    {
      "cell_type": "code",
      "metadata": {
        "id": "QOiwpCpaBtGi"
      },
      "source": [
        "model=lr.fit(x_train,y_train)\n",
        "preds=model.predict(x_test)"
      ],
      "execution_count": null,
      "outputs": []
    },
    {
      "cell_type": "code",
      "metadata": {
        "id": "FxTMDSQ9OwDP"
      },
      "source": [
        "# function for plotting cross-validation results\n",
        "def plot_cross_validation_on_trees(depths, cv_scores_mean, cv_scores_std, accuracy_scores, title):\n",
        "    fig, ax = plt.subplots(1,1, figsize=(15,5))\n",
        "    ax.plot(depths, cv_scores_mean, '-o', label='mean cross-validation accuracy', alpha=0.9)\n",
        "    ax.fill_between(depths, cv_scores_mean-2*cv_scores_std, cv_scores_mean+2*cv_scores_std, alpha=0.2)\n",
        "    ylim = plt.ylim()\n",
        "    ax.plot(depths, accuracy_scores, '-*', label='train accuracy', alpha=0.9)\n",
        "    ax.set_title(title, fontsize=16)\n",
        "    ax.set_xlabel('Tree depth', fontsize=14)\n",
        "    ax.set_ylabel('Accuracy', fontsize=14)\n",
        "    ax.set_ylim(ylim)\n",
        "    ax.set_xticks(depths)\n",
        "    ax.legend()"
      ],
      "execution_count": null,
      "outputs": []
    },
    {
      "cell_type": "code",
      "metadata": {
        "colab": {
          "base_uri": "https://localhost:8080/"
        },
        "id": "R75dDkTMBwII",
        "outputId": "8f98a485-9813-415a-9c3d-239986a8bfae"
      },
      "source": [
        "print(classification_report(y_test, preds))"
      ],
      "execution_count": null,
      "outputs": [
        {
          "name": "stdout",
          "output_type": "stream",
          "text": [
            "              precision    recall  f1-score   support\n",
            "\n",
            "           0       0.75      0.84      0.79       938\n",
            "           2       0.53      0.39      0.45       436\n",
            "\n",
            "    accuracy                           0.70      1374\n",
            "   macro avg       0.64      0.62      0.62      1374\n",
            "weighted avg       0.68      0.70      0.68      1374\n",
            "\n"
          ]
        }
      ]
    },
    {
      "cell_type": "code",
      "metadata": {
        "id": "iG2xdwnYxonY"
      },
      "source": [
        "#unique, counts = np.unique(preds, return_counts=True)\n",
        "#dict(zip(unique, counts))"
      ],
      "execution_count": null,
      "outputs": []
    },
    {
      "cell_type": "code",
      "metadata": {
        "colab": {
          "base_uri": "https://localhost:8080/"
        },
        "id": "1co3h6Amo0T1",
        "outputId": "946df564-0aec-4982-e94c-ad9be135d002"
      },
      "source": [
        "print(confusion_matrix(y_test, preds))"
      ],
      "execution_count": null,
      "outputs": [
        {
          "name": "stdout",
          "output_type": "stream",
          "text": [
            "[[788 150]\n",
            " [265 171]]\n"
          ]
        }
      ]
    },
    {
      "cell_type": "code",
      "metadata": {
        "id": "sFHnK_Uafsf8"
      },
      "source": [
        "columns=[\"antonym_negation\",\"sentence_sim\",\"cosine_similarity\",\"jaccard\",\"subject_sim\",\"polarity\",\"polarity_difference\"]"
      ],
      "execution_count": null,
      "outputs": []
    },
    {
      "cell_type": "code",
      "metadata": {
        "colab": {
          "base_uri": "https://localhost:8080/",
          "height": 376
        },
        "id": "-85i9u8ITRRv",
        "outputId": "059a15ee-d1f0-4688-aa31-dc60fdd0729c"
      },
      "source": [
        "#dtree = DecisionTreeClassifier() lr\n",
        "#dtree = dtree.fit(X, y)\n",
        "data = tree.export_graphviz(lr, out_file=None, feature_names=columns)\n",
        "graph = pydotplus.graph_from_dot_data(data)\n",
        "graph.write_png('mydecisiontree.png')\n",
        "\n",
        "Image(graph.create_png())"
      ],
      "execution_count": null,
      "outputs": [
        {
          "data": {
            "image/png": "[encoded data removed]",
            "text/plain": [
              "<IPython.core.display.Image object>"
            ]
          },
          "execution_count": 25,
          "metadata": {},
          "output_type": "execute_result"
        }
      ]
    },
    {
      "cell_type": "code",
      "metadata": {
        "id": "eO09I4AOUcDT"
      },
      "source": [
        "#lt.savefig('mydecisiontree.png')"
      ],
      "execution_count": null,
      "outputs": []
    },
    {
      "cell_type": "code",
      "metadata": {
        "id": "5acmTyP7lU3t"
      },
      "source": [
        "importance = lr.feature_importances_"
      ],
      "execution_count": null,
      "outputs": []
    },
    {
      "cell_type": "code",
      "metadata": {
        "colab": {
          "base_uri": "https://localhost:8080/",
          "height": 382
        },
        "id": "wTKqazxOljzV",
        "outputId": "543fe211-0a65-4113-a56d-0740048be2cd"
      },
      "source": [
        "# summarize feature importance\n",
        "for i,v in enumerate(importance):\n",
        "\tprint('Feature: %0d, Score: %.5f' % (i,v))\n",
        "# plot feature importance\n",
        "pyplot.bar([x for x in range(len(importance))], importance)\n",
        "pyplot.show()"
      ],
      "execution_count": null,
      "outputs": [
        {
          "name": "stdout",
          "output_type": "stream",
          "text": [
            "Feature: 0, Score: 0.75062\n",
            "Feature: 1, Score: 0.00000\n",
            "Feature: 2, Score: 0.24938\n",
            "Feature: 3, Score: 0.00000\n",
            "Feature: 4, Score: 0.00000\n",
            "Feature: 5, Score: 0.00000\n",
            "Feature: 6, Score: 0.00000\n"
          ]
        },
        {
          "data": {
            "image/png": "[encoded data removed]",
            "text/plain": [
              "<Figure size 432x288 with 1 Axes>"
            ]
          },
          "metadata": {},
          "output_type": "display_data"
        }
      ]
    },
    {
      "cell_type": "code",
      "metadata": {
        "id": "Xg_YZwToXwgG"
      },
      "source": [
        "#Decision Tree with Word2Vec Dataset\n",
        "#After having performed 10-fold cross-val, best parameters are criterion:gini  , max_depth:5"
      ],
      "execution_count": null,
      "outputs": []
    },
    {
      "cell_type": "code",
      "metadata": {
        "id": "P04gV-3lXwgG"
      },
      "source": [
        "lr = DecisionTreeClassifier(criterion='gini',max_depth=5) \n",
        "model=lr.fit(x_train_w2v,y_train_w2v)\n",
        "preds_w2v=model.predict(x_test_w2v)\n",
        "#print(classification_report(y_test_w2v, preds_w2v))\n",
        "#print(confusion_matrix(y_test_w2v, preds_w2v))"
      ],
      "execution_count": null,
      "outputs": []
    },
    {
      "cell_type": "markdown",
      "metadata": {
        "id": "pXkF9rzjrC_N"
      },
      "source": [
        "**Random Forest**"
      ]
    },
    {
      "cell_type": "code",
      "metadata": {
        "id": "ZDi-pSac_UtH"
      },
      "source": [
        "param_grid = {\n",
        "    'max_depth': [1,2,3,8,10],\n",
        "    'max_features': [2,3,4,5,6,7],\n",
        "    'n_estimators': [300,400,500]\n",
        "}"
      ],
      "execution_count": 10,
      "outputs": []
    },
    {
      "cell_type": "code",
      "metadata": {
        "id": "Q0_NiwKz_Wbg"
      },
      "source": [
        "rf = RandomForestClassifier(random_state = 42)"
      ],
      "execution_count": 11,
      "outputs": []
    },
    {
      "cell_type": "code",
      "metadata": {
        "id": "NJ9rdmde_YYd"
      },
      "source": [
        "grid_search = GridSearchCV(estimator = rf, param_grid = param_grid, \n",
        "                          cv = 10, n_jobs = 2, verbose = 2)"
      ],
      "execution_count": 12,
      "outputs": []
    },
    {
      "cell_type": "code",
      "metadata": {
        "colab": {
          "base_uri": "https://localhost:8080/",
          "height": 162
        },
        "id": "wegyZuOIvCYo",
        "outputId": "ea1cf4de-89a3-40a3-a6af-5fc77ab594d4"
      },
      "source": [
        "grid_search.fit(x_train, y_train)"
      ],
      "execution_count": 13,
      "outputs": [
        {
          "output_type": "error",
          "ename": "NameError",
          "evalue": "ignored",
          "traceback": [
            "\u001b[0;31m---------------------------------------------------------------------------\u001b[0m",
            "\u001b[0;31mNameError\u001b[0m                                 Traceback (most recent call last)",
            "\u001b[0;32m<ipython-input-13-86ae6c1b04a0>\u001b[0m in \u001b[0;36m<module>\u001b[0;34m()\u001b[0m\n\u001b[0;32m----> 1\u001b[0;31m \u001b[0mgrid_search\u001b[0m\u001b[0;34m.\u001b[0m\u001b[0mfit\u001b[0m\u001b[0;34m(\u001b[0m\u001b[0mx_train\u001b[0m\u001b[0;34m,\u001b[0m \u001b[0my_train\u001b[0m\u001b[0;34m)\u001b[0m\u001b[0;34m\u001b[0m\u001b[0;34m\u001b[0m\u001b[0m\n\u001b[0m",
            "\u001b[0;31mNameError\u001b[0m: name 'x_train' is not defined"
          ]
        }
      ]
    },
    {
      "cell_type": "code",
      "metadata": {
        "id": "JOdMfweuIiQJ"
      },
      "source": [
        "model = RandomForestClassifier(max_depth= 8, max_features= 4, n_estimators= 500)   "
      ],
      "execution_count": 16,
      "outputs": []
    },
    {
      "cell_type": "code",
      "metadata": {
        "colab": {
          "base_uri": "https://localhost:8080/"
        },
        "id": "dosdM2GXInV4",
        "outputId": "e7e2b10b-489a-494a-d1e9-ac733b4c524f"
      },
      "source": [
        "model.fit(x_train, y_train)"
      ],
      "execution_count": null,
      "outputs": [
        {
          "data": {
            "text/plain": [
              "RandomForestClassifier(bootstrap=True, ccp_alpha=0.0, class_weight=None,\n",
              "                       criterion='gini', max_depth=8, max_features=2,\n",
              "                       max_leaf_nodes=None, max_samples=None,\n",
              "                       min_impurity_decrease=0.0, min_impurity_split=None,\n",
              "                       min_samples_leaf=1, min_samples_split=2,\n",
              "                       min_weight_fraction_leaf=0.0, n_estimators=300,\n",
              "                       n_jobs=None, oob_score=False, random_state=None,\n",
              "                       verbose=0, warm_start=False)"
            ]
          },
          "execution_count": 36,
          "metadata": {},
          "output_type": "execute_result"
        }
      ]
    },
    {
      "cell_type": "code",
      "metadata": {
        "id": "JAZQhimnHXoE"
      },
      "source": [
        "preds=model.predict(x_test)"
      ],
      "execution_count": null,
      "outputs": []
    },
    {
      "cell_type": "code",
      "metadata": {
        "colab": {
          "base_uri": "https://localhost:8080/"
        },
        "id": "7R6ZMIuXvCR2",
        "outputId": "8a1710cf-b3d4-40db-9f30-8b5ab4876ec8"
      },
      "source": [
        "print(classification_report(y_test, preds))"
      ],
      "execution_count": null,
      "outputs": [
        {
          "name": "stdout",
          "output_type": "stream",
          "text": [
            "              precision    recall  f1-score   support\n",
            "\n",
            "           0       0.66      1.00      0.79      1219\n",
            "           2       0.20      0.00      0.00       639\n",
            "\n",
            "    accuracy                           0.65      1858\n",
            "   macro avg       0.43      0.50      0.40      1858\n",
            "weighted avg       0.50      0.65      0.52      1858\n",
            "\n"
          ]
        }
      ]
    },
    {
      "cell_type": "code",
      "metadata": {
        "colab": {
          "base_uri": "https://localhost:8080/"
        },
        "id": "LEgQRpLzKBwU",
        "outputId": "af3c28f1-79a1-4ba7-cf18-d78835e8062b"
      },
      "source": [
        "print(confusion_matrix(y_test, preds))"
      ],
      "execution_count": null,
      "outputs": [
        {
          "name": "stdout",
          "output_type": "stream",
          "text": [
            "[[1215    4]\n",
            " [ 638    1]]\n"
          ]
        }
      ]
    },
    {
      "cell_type": "code",
      "metadata": {
        "id": "gGAcra-hKVNE"
      },
      "source": [
        "# Pull out one tree from the forest\n",
        "tree = model.estimators_[5]\n",
        "tree = model.estimators_[5]\n",
        "export_graphviz(tree, out_file = 'tree.dot', feature_names = columns, rounded = True, precision = 1)\n",
        "(graph, ) = pydot.graph_from_dot_file('tree.dot')\n",
        "graph.write_png('tree.png')"
      ],
      "execution_count": null,
      "outputs": []
    },
    {
      "cell_type": "code",
      "metadata": {
        "id": "9RohII51KVK7"
      },
      "source": [
        "# Get numerical feature importances\n",
        "importances = list(model.feature_importances_)"
      ],
      "execution_count": null,
      "outputs": []
    },
    {
      "cell_type": "code",
      "metadata": {
        "colab": {
          "base_uri": "https://localhost:8080/",
          "height": 382
        },
        "id": "EQQGUrq3KVIf",
        "outputId": "dd8314ec-ecc5-4682-b5cf-5385982f8785"
      },
      "source": [
        "for i,v in enumerate(importances):\n",
        "\tprint('Feature: %0d, Score: %.5f' % (i,v))\n",
        "pyplot.bar([x for x in range(len(importances))], importances)\n",
        "pyplot.show()"
      ],
      "execution_count": null,
      "outputs": [
        {
          "name": "stdout",
          "output_type": "stream",
          "text": [
            "Feature: 0, Score: 0.23809\n",
            "Feature: 1, Score: 0.23292\n",
            "Feature: 2, Score: 0.21678\n",
            "Feature: 3, Score: 0.14467\n",
            "Feature: 4, Score: 0.05419\n",
            "Feature: 5, Score: 0.01186\n",
            "Feature: 6, Score: 0.10148\n"
          ]
        },
        {
          "data": {
            "image/png": "[encoded data removed]",
            "text/plain": [
              "<Figure size 432x288 with 1 Axes>"
            ]
          },
          "metadata": {},
          "output_type": "display_data"
        }
      ]
    },
    {
      "cell_type": "code",
      "metadata": {
        "id": "fsG-pYtbXUT2"
      },
      "source": [
        "#Random Forest with Word2Vec Dataset\n",
        "#After having performed 10-fold cross-val, best parameters are max_depth:8  , max_features:2 ,  n_estimators:300"
      ],
      "execution_count": null,
      "outputs": []
    },
    {
      "cell_type": "code",
      "metadata": {
        "id": "IezKjbUTXgI_"
      },
      "source": [
        "model = RandomForestClassifier(max_depth= 1, max_features= 2, n_estimators= 300)   \n",
        "model.fit(x_train_w2v, y_train_w2v)\n",
        "preds_w2v=model.predict(x_test_w2v)"
      ],
      "execution_count": 25,
      "outputs": []
    },
    {
      "cell_type": "code",
      "metadata": {
        "id": "vTgl7KcyXh24",
        "colab": {
          "base_uri": "https://localhost:8080/"
        },
        "outputId": "af03c79e-8667-4100-93d6-a553139c7c72"
      },
      "source": [
        "print(classification_report(y_test_w2v, preds_w2v))\n",
        "#print(confusion_matrix(y_test_w2v, preds_w2v))"
      ],
      "execution_count": 26,
      "outputs": [
        {
          "output_type": "stream",
          "name": "stdout",
          "text": [
            "              precision    recall  f1-score   support\n",
            "\n",
            "           0       0.66      1.00      0.79      1219\n",
            "           2       0.00      0.00      0.00       639\n",
            "\n",
            "    accuracy                           0.66      1858\n",
            "   macro avg       0.33      0.50      0.40      1858\n",
            "weighted avg       0.43      0.66      0.52      1858\n",
            "\n"
          ]
        },
        {
          "output_type": "stream",
          "name": "stderr",
          "text": [
            "/usr/local/lib/python3.7/dist-packages/sklearn/metrics/_classification.py:1272: UndefinedMetricWarning: Precision and F-score are ill-defined and being set to 0.0 in labels with no predicted samples. Use `zero_division` parameter to control this behavior.\n",
            "  _warn_prf(average, modifier, msg_start, len(result))\n"
          ]
        }
      ]
    },
    {
      "cell_type": "markdown",
      "metadata": {
        "id": "DFjS1_S6bUCh"
      },
      "source": [
        "**ANN**"
      ]
    },
    {
      "cell_type": "code",
      "metadata": {
        "id": "1eg2RZqTuf-Y"
      },
      "source": [
        "X= training_set.copy()"
      ],
      "execution_count": 22,
      "outputs": []
    },
    {
      "cell_type": "code",
      "metadata": {
        "id": "7BSnHdsRuh08"
      },
      "source": [
        "X['label'] = X['label'].replace([0, 1],0)\n",
        "X['label'] = X['label'].replace(2,1)"
      ],
      "execution_count": 128,
      "outputs": []
    },
    {
      "cell_type": "code",
      "metadata": {
        "id": "7WZXg188ueEE"
      },
      "source": [
        "y=X[\"label\"]"
      ],
      "execution_count": null,
      "outputs": []
    },
    {
      "cell_type": "code",
      "metadata": {
        "id": "P-y-FCCFvWlg"
      },
      "source": [
        "X.drop(['label'],axis=1,inplace=True)"
      ],
      "execution_count": 133,
      "outputs": []
    },
    {
      "cell_type": "code",
      "metadata": {
        "id": "QXtxkeWUueEF"
      },
      "source": [
        "X=standardized_dataset(X)\n",
        "x_train,x_test,y_train,y_test = model_selection.train_test_split(X,y,test_size=0.2,random_state=4)"
      ],
      "execution_count": 135,
      "outputs": []
    },
    {
      "cell_type": "code",
      "metadata": {
        "id": "fO6FAuvHfVkj"
      },
      "source": [
        "def create_baseline():\n",
        "\t# create model\n",
        "\tmodel = Sequential()\n",
        "\tmodel.add(Dense(60, input_dim=7, activation='relu'))   \n",
        "\tmodel.add(Dense(1, activation='sigmoid'))\n",
        "\t# Compile model\n",
        "\tmodel.compile(loss='binary_crossentropy', optimizer='adam', metrics=['accuracy'])\n",
        "\treturn model"
      ],
      "execution_count": 136,
      "outputs": []
    },
    {
      "cell_type": "code",
      "metadata": {
        "colab": {
          "base_uri": "https://localhost:8080/"
        },
        "id": "g6fdfMhXnhgd",
        "outputId": "429ffc07-0672-49cf-8d96-9d63d147fc13"
      },
      "source": [
        "# evaluate model with standardized dataset\n",
        "estimator = KerasClassifier(build_fn=create_baseline, epochs=100, batch_size=8, verbose=0)\n",
        "kfold = StratifiedKFold(n_splits=10, shuffle=True)\n",
        "results = cross_val_score(estimator, X,y, cv=10)\n",
        "print(\"Baseline: %.2f%% (%.2f%%)\" % (results.mean()*100, results.std()*100))"
      ],
      "execution_count": 68,
      "outputs": [
        {
          "output_type": "stream",
          "name": "stdout",
          "text": [
            "Baseline: 68.75% (1.83%)\n"
          ]
        }
      ]
    },
    {
      "cell_type": "code",
      "metadata": {
        "id": "WSYDaqmapkxI"
      },
      "source": [
        "model = Sequential()\n",
        "model.add(Dense(7, input_dim=6, activation='relu'))  #60\n",
        "model.add(Dense(1, activation='sigmoid'))"
      ],
      "execution_count": 38,
      "outputs": []
    },
    {
      "cell_type": "code",
      "metadata": {
        "id": "j4QC4wQ1pkxI"
      },
      "source": [
        "model.compile(loss='binary_crossentropy', optimizer='adam', metrics=['accuracy'])"
      ],
      "execution_count": 39,
      "outputs": []
    },
    {
      "cell_type": "code",
      "metadata": {
        "colab": {
          "base_uri": "https://localhost:8080/"
        },
        "id": "Vb8LYlFqpkxJ",
        "outputId": "ef00fbaa-9302-4d97-a0c7-c10610523e30"
      },
      "source": [
        "model.fit(x_train, y_train, epochs=100, batch_size=8, verbose=0)    "
      ],
      "execution_count": 147,
      "outputs": [
        {
          "output_type": "execute_result",
          "data": {
            "text/plain": [
              "<keras.callbacks.History at 0x7f71c94cc410>"
            ]
          },
          "metadata": {},
          "execution_count": 147
        }
      ]
    },
    {
      "cell_type": "code",
      "metadata": {
        "colab": {
          "base_uri": "https://localhost:8080/"
        },
        "id": "cq956drspkxJ",
        "outputId": "c021ca26-8a8b-4dbe-bc4e-7aa4d9d8231f"
      },
      "source": [
        "_, accuracy = model.evaluate(x_train, y_train)\n",
        "print('Training Accuracy: %.2f' % (accuracy*100))"
      ],
      "execution_count": 148,
      "outputs": [
        {
          "output_type": "stream",
          "name": "stdout",
          "text": [
            "172/172 [==============================] - 0s 1ms/step - loss: 0.6164 - accuracy: 0.6705\n",
            "Training Accuracy: 67.05\n"
          ]
        }
      ]
    },
    {
      "cell_type": "code",
      "metadata": {
        "id": "ZHkhDFXIpecC"
      },
      "source": [
        "# predict probabilities for test set\n",
        "yhat_probs = model.predict(x_test, verbose=0)\n",
        "# predict crisp classes for test set\n",
        "yhat_classes = np.argmax(yhat_probs,axis=1)"
      ],
      "execution_count": 149,
      "outputs": []
    },
    {
      "cell_type": "code",
      "metadata": {
        "colab": {
          "base_uri": "https://localhost:8080/"
        },
        "id": "nx-pAYsktese",
        "outputId": "ffadafef-1377-4355-8556-271fea1cda89"
      },
      "source": [
        "yhat_classes"
      ],
      "execution_count": 150,
      "outputs": [
        {
          "output_type": "execute_result",
          "data": {
            "text/plain": [
              "array([0, 0, 0, ..., 0, 0, 0])"
            ]
          },
          "metadata": {},
          "execution_count": 150
        }
      ]
    },
    {
      "cell_type": "code",
      "metadata": {
        "colab": {
          "base_uri": "https://localhost:8080/"
        },
        "id": "Qlznf8_JsXQw",
        "outputId": "55784a1c-e6a9-4481-9008-109a9b8977a5"
      },
      "source": [
        "accuracy = accuracy_score(y_test, yhat_classes)\n",
        "print('Accuracy: %f' % accuracy)\n",
        "precision = precision_score(y_test, yhat_classes)\n",
        "print('Precision: %f' % precision)\n",
        "recall = recall_score(y_test, yhat_classes)\n",
        "print('Recall: %f' % recall)\n",
        "f1 = f1_score(y_test, yhat_classes)\n",
        "print('F1 score: %f' % f1)"
      ],
      "execution_count": 152,
      "outputs": [
        {
          "output_type": "stream",
          "name": "stdout",
          "text": [
            "Accuracy: 0.682678\n",
            "Precision: 0.000000\n",
            "Recall: 0.000000\n",
            "F1 score: 0.000000\n"
          ]
        },
        {
          "output_type": "stream",
          "name": "stderr",
          "text": [
            "/usr/local/lib/python3.7/dist-packages/sklearn/metrics/_classification.py:1272: UndefinedMetricWarning: Precision is ill-defined and being set to 0.0 due to no predicted samples. Use `zero_division` parameter to control this behavior.\n",
            "  _warn_prf(average, modifier, msg_start, len(result))\n"
          ]
        }
      ]
    },
    {
      "cell_type": "code",
      "metadata": {
        "id": "IZa_N2_2drly"
      },
      "source": [
        "#Implementing NN with Word2vec dataset"
      ],
      "execution_count": 11,
      "outputs": []
    },
    {
      "cell_type": "code",
      "metadata": {
        "id": "IFKf8UMuEbOT"
      },
      "source": [
        "x_train_w2v=np.asarray(x_train_w2v)"
      ],
      "execution_count": 28,
      "outputs": []
    },
    {
      "cell_type": "code",
      "metadata": {
        "id": "zOuwdeRQrYHl"
      },
      "source": [
        "ip_dim = x_train_w2v.shape[1]\n",
        "model = Sequential()\n",
        "model.add(Dense(7, input_dim=ip_dim, activation='relu'))  #60\n",
        "model.add(Dense(1, activation='sigmoid'))"
      ],
      "execution_count": 54,
      "outputs": []
    },
    {
      "cell_type": "code",
      "metadata": {
        "id": "Bbl1-4rUszNA"
      },
      "source": [
        "model.compile(loss='binary_crossentropy', optimizer='adam', metrics=['accuracy'])"
      ],
      "execution_count": 57,
      "outputs": []
    },
    {
      "cell_type": "code",
      "metadata": {
        "colab": {
          "base_uri": "https://localhost:8080/"
        },
        "id": "jDZHnBKAszNB",
        "outputId": "1e9653e9-42bf-4a2e-b000-c4bfd3a3e65b"
      },
      "source": [
        "model.fit(x_train_w2v, np.asarray(y_train_w2v), epochs=100, batch_size=8, verbose=0)     "
      ],
      "execution_count": 58,
      "outputs": [
        {
          "output_type": "execute_result",
          "data": {
            "text/plain": [
              "<keras.callbacks.History at 0x7f02344df3d0>"
            ]
          },
          "metadata": {},
          "execution_count": 58
        }
      ]
    },
    {
      "cell_type": "code",
      "metadata": {
        "colab": {
          "base_uri": "https://localhost:8080/"
        },
        "id": "78zsyyBPszNB",
        "outputId": "2982d81b-3f5f-47ec-8b4d-850309639bed"
      },
      "source": [
        "_, accuracy = model.evaluate(x_train_w2v, np.asarray(y_train_w2v))\n",
        "print('Training Accuracy: %.2f' % (accuracy*100))"
      ],
      "execution_count": 59,
      "outputs": [
        {
          "output_type": "stream",
          "name": "stdout",
          "text": [
            "157/157 [==============================] - 0s 1ms/step - loss: 0.4267 - accuracy: 0.7984\n",
            "Training Accuracy: 79.84\n"
          ]
        }
      ]
    },
    {
      "cell_type": "code",
      "metadata": {
        "id": "xZWHVft4szNB"
      },
      "source": [
        "# predict probabilities for test set\n",
        "yhat_probs = model.predict(np.asarray(x_test_w2v), verbose=0)\n",
        "# predict crisp classes for test set\n",
        "yhat_classes = np.argmax(yhat_probs,axis=1)"
      ],
      "execution_count": 60,
      "outputs": []
    },
    {
      "cell_type": "code",
      "metadata": {
        "colab": {
          "base_uri": "https://localhost:8080/"
        },
        "id": "Q7JRBOWkszNB",
        "outputId": "0df33e5f-2279-4e9a-9e94-59161358298b"
      },
      "source": [
        "accuracy = accuracy_score(np.asarray(y_test_w2v), yhat_classes)\n",
        "print('Accuracy: %f' % accuracy)\n",
        "precision = precision_score(np.asarray(y_test_w2v), yhat_classes, average=\"binary\")\n",
        "print('Precision: %f' % precision)\n",
        "recall = recall_score(np.asarray(y_test_w2v), yhat_classes, average=\"binary\")\n",
        "print('Recall: %f' % recall)\n",
        "f1 = f1_score(np.asarray(y_test_w2v), yhat_classes, average=\"binary\")\n",
        "print('F1 score: %f' % f1)"
      ],
      "execution_count": 61,
      "outputs": [
        {
          "output_type": "stream",
          "name": "stdout",
          "text": [
            "Accuracy: 0.656082\n",
            "Precision: 0.000000\n",
            "Recall: 0.000000\n",
            "F1 score: 0.000000\n"
          ]
        },
        {
          "output_type": "stream",
          "name": "stderr",
          "text": [
            "/usr/local/lib/python3.7/dist-packages/sklearn/metrics/_classification.py:1272: UndefinedMetricWarning: Precision is ill-defined and being set to 0.0 due to no predicted samples. Use `zero_division` parameter to control this behavior.\n",
            "  _warn_prf(average, modifier, msg_start, len(result))\n"
          ]
        }
      ]
    },
    {
      "cell_type": "markdown",
      "metadata": {
        "id": "0xKCXBQdSN1r"
      },
      "source": [
        "**Sparse Tensor**"
      ]
    },
    {
      "cell_type": "code",
      "metadata": {
        "id": "ASgF3CYRFj_f"
      },
      "source": [
        "b= training_set.copy()\n",
        "b[\"label\"]= b['label'].replace(0, \"Entailment\")\n",
        "#b[\"label\"]= b['label'].replace(1, \"Neutral\")\n",
        "b[\"label\"]= b['label'].replace(2, \"Contradiction\")"
      ],
      "execution_count": 25,
      "outputs": []
    },
    {
      "cell_type": "code",
      "metadata": {
        "id": "m35uufY3Fj_f"
      },
      "source": [
        "# Initialize the class\n",
        "STC = SparseTensorClassifier(targets=[\"label\"], features=b.loc[:, b.columns != 'label'])  "
      ],
      "execution_count": 26,
      "outputs": []
    },
    {
      "cell_type": "code",
      "metadata": {
        "colab": {
          "base_uri": "https://localhost:8080/"
        },
        "id": "LPRBgUiFFj_g",
        "outputId": "0667954a-b6ea-45a6-a046-51c3ad1b32b1"
      },
      "source": [
        "# Fit the training data\n",
        "STC.fit(b[0:5000])"
      ],
      "execution_count": 27,
      "outputs": [
        {
          "output_type": "stream",
          "name": "stdout",
          "text": [
            ""
          ]
        }
      ]
    },
    {
      "cell_type": "code",
      "metadata": {
        "colab": {
          "base_uri": "https://localhost:8080/"
        },
        "id": "YZGuuxQ9Fj_g",
        "outputId": "c69e5789-477e-41cc-fcbb-9f0d111e1df5"
      },
      "source": [
        "# Predict the test data\n",
        "labels, probability, explainability = STC.predict(b[5000:])"
      ],
      "execution_count": 28,
      "outputs": [
        {
          "output_type": "stream",
          "name": "stdout",
          "text": [
            ""
          ]
        }
      ]
    },
    {
      "cell_type": "code",
      "metadata": {
        "id": "BSQbskqd3Gy3"
      },
      "source": [
        "#labels"
      ],
      "execution_count": null,
      "outputs": []
    },
    {
      "cell_type": "code",
      "metadata": {
        "colab": {
          "base_uri": "https://localhost:8080/"
        },
        "id": "BdEqp5BPkndT",
        "outputId": "d69fd292-06ca-4780-d9c1-5fdb331b869f"
      },
      "source": [
        "accuracy_score(b['label'][5000:], labels)"
      ],
      "execution_count": 29,
      "outputs": [
        {
          "output_type": "execute_result",
          "data": {
            "text/plain": [
              "0.6149732620320856"
            ]
          },
          "metadata": {},
          "execution_count": 29
        }
      ]
    },
    {
      "cell_type": "code",
      "metadata": {
        "colab": {
          "base_uri": "https://localhost:8080/"
        },
        "id": "_I9WX377knFA",
        "outputId": "28b56d9e-089f-4de5-f648-9dcaeccb36fb"
      },
      "source": [
        "print(classification_report(b['label'][5000:], labels))"
      ],
      "execution_count": 73,
      "outputs": [
        {
          "output_type": "stream",
          "name": "stdout",
          "text": [
            "               precision    recall  f1-score   support\n",
            "\n",
            "Contradiction       0.34      0.99      0.51       644\n",
            "   Entailment       0.44      0.01      0.01      1226\n",
            "\n",
            "     accuracy                           0.34      1870\n",
            "    macro avg       0.39      0.50      0.26      1870\n",
            " weighted avg       0.40      0.34      0.18      1870\n",
            "\n"
          ]
        }
      ]
    },
    {
      "cell_type": "code",
      "metadata": {
        "colab": {
          "base_uri": "https://localhost:8080/"
        },
        "id": "70m3nE4wAlb2",
        "outputId": "f5f6e4b6-0d92-4d14-d534-e9ea5b9ba954"
      },
      "source": [
        "test = b[5000:].reset_index()\n",
        "labels, probability, explainability = STC.predict(test)"
      ],
      "execution_count": 31,
      "outputs": [
        {
          "output_type": "stream",
          "name": "stdout",
          "text": [
            ""
          ]
        }
      ]
    },
    {
      "cell_type": "code",
      "metadata": {
        "colab": {
          "base_uri": "https://localhost:8080/"
        },
        "id": "4yXq3T-AAlZn",
        "outputId": "b3784a5b-1590-4d24-e30d-eff460ab20e9"
      },
      "source": [
        "test.loc[17][['antonym_negation', 'label']]"
      ],
      "execution_count": 61,
      "outputs": [
        {
          "output_type": "execute_result",
          "data": {
            "text/plain": [
              "antonym_negation                1\n",
              "label               Contradiction\n",
              "Name: 17, dtype: object"
            ]
          },
          "metadata": {},
          "execution_count": 61
        }
      ]
    },
    {
      "cell_type": "code",
      "metadata": {
        "colab": {
          "base_uri": "https://localhost:8080/"
        },
        "id": "4rKRbOiREtqb",
        "outputId": "24a82c6d-58bb-49aa-9dda-c48a85a9a18a"
      },
      "source": [
        "labels.loc[17]"
      ],
      "execution_count": 60,
      "outputs": [
        {
          "output_type": "execute_result",
          "data": {
            "text/plain": [
              "label    Contradiction\n",
              "Name: 17, dtype: object"
            ]
          },
          "metadata": {},
          "execution_count": 60
        }
      ]
    },
    {
      "cell_type": "code",
      "metadata": {
        "colab": {
          "base_uri": "https://localhost:8080/"
        },
        "id": "4G5CVqJ-Bomn",
        "outputId": "9f2447ba-abac-4105-f415-87558d316475"
      },
      "source": [
        "probability.loc[17]"
      ],
      "execution_count": 62,
      "outputs": [
        {
          "output_type": "execute_result",
          "data": {
            "text/plain": [
              "label\n",
              "Contradiction    0.642485\n",
              "Entailment       0.357515\n",
              "Name: 17, dtype: float64"
            ]
          },
          "metadata": {},
          "execution_count": 62
        }
      ]
    },
    {
      "cell_type": "code",
      "metadata": {
        "colab": {
          "base_uri": "https://localhost:8080/",
          "height": 234
        },
        "id": "mANQFeBTFPlV",
        "outputId": "2155fec7-af0c-47cb-d631-df478f512d08"
      },
      "source": [
        "explainability.loc[(17,'Contradiction')][:]"
      ],
      "execution_count": 64,
      "outputs": [
        {
          "output_type": "execute_result",
          "data": {
            "text/html": [
              "<div>\n",
              "<style scoped>\n",
              "    .dataframe tbody tr th:only-of-type {\n",
              "        vertical-align: middle;\n",
              "    }\n",
              "\n",
              "    .dataframe tbody tr th {\n",
              "        vertical-align: top;\n",
              "    }\n",
              "\n",
              "    .dataframe thead th {\n",
              "        text-align: right;\n",
              "    }\n",
              "</style>\n",
              "<table border=\"1\" class=\"dataframe\">\n",
              "  <thead>\n",
              "    <tr style=\"text-align: right;\">\n",
              "      <th></th>\n",
              "      <th></th>\n",
              "      <th>features</th>\n",
              "      <th>score</th>\n",
              "    </tr>\n",
              "    <tr>\n",
              "      <th>item</th>\n",
              "      <th>label</th>\n",
              "      <th></th>\n",
              "      <th></th>\n",
              "    </tr>\n",
              "  </thead>\n",
              "  <tbody>\n",
              "    <tr>\n",
              "      <th rowspan=\"5\" valign=\"top\">17</th>\n",
              "      <th>Contradiction</th>\n",
              "      <td>antonym_negation: 1</td>\n",
              "      <td>0.009545</td>\n",
              "    </tr>\n",
              "    <tr>\n",
              "      <th>Contradiction</th>\n",
              "      <td>jaccard: 0.5294117647058824</td>\n",
              "      <td>0.000895</td>\n",
              "    </tr>\n",
              "    <tr>\n",
              "      <th>Contradiction</th>\n",
              "      <td>polarity: 1</td>\n",
              "      <td>0.000015</td>\n",
              "    </tr>\n",
              "    <tr>\n",
              "      <th>Contradiction</th>\n",
              "      <td>polarity_difference: -0.999999000001</td>\n",
              "      <td>0.000011</td>\n",
              "    </tr>\n",
              "    <tr>\n",
              "      <th>Contradiction</th>\n",
              "      <td>subject_sim: 0.0</td>\n",
              "      <td>0.000004</td>\n",
              "    </tr>\n",
              "  </tbody>\n",
              "</table>\n",
              "</div>"
            ],
            "text/plain": [
              "                                                features     score\n",
              "item label                                                        \n",
              "17   Contradiction                   antonym_negation: 1  0.009545\n",
              "     Contradiction           jaccard: 0.5294117647058824  0.000895\n",
              "     Contradiction                           polarity: 1  0.000015\n",
              "     Contradiction  polarity_difference: -0.999999000001  0.000011\n",
              "     Contradiction                      subject_sim: 0.0  0.000004"
            ]
          },
          "metadata": {},
          "execution_count": 64
        }
      ]
    },
    {
      "cell_type": "code",
      "metadata": {
        "id": "MCZKnE6gF7_r"
      },
      "source": [
        "#Sparse Tensor using words as input"
      ],
      "execution_count": null,
      "outputs": []
    },
    {
      "cell_type": "code",
      "metadata": {
        "id": "eLKfVSH8G22g"
      },
      "source": [
        "b= data_train.copy()\n",
        "b[\"label\"]= b['label'].replace(0, \"Entailment\")\n",
        "b[\"label\"]= b['label'].replace(1, \"Neutral\")\n",
        "b[\"label\"]= b['label'].replace(2, \"Contradiction\")"
      ],
      "execution_count": 65,
      "outputs": []
    },
    {
      "cell_type": "code",
      "metadata": {
        "colab": {
          "base_uri": "https://localhost:8080/"
        },
        "id": "a3LPUSgxSN1r",
        "outputId": "c11060ae-2f28-4ee0-9022-11e5f394f58d"
      },
      "source": [
        "nltk.download('punkt')"
      ],
      "execution_count": 66,
      "outputs": [
        {
          "output_type": "stream",
          "name": "stdout",
          "text": [
            "[nltk_data] Downloading package punkt to /root/nltk_data...\n",
            "[nltk_data]   Package punkt is already up-to-date!\n"
          ]
        },
        {
          "output_type": "execute_result",
          "data": {
            "text/plain": [
              "True"
            ]
          },
          "metadata": {},
          "execution_count": 66
        }
      ]
    },
    {
      "cell_type": "code",
      "metadata": {
        "colab": {
          "base_uri": "https://localhost:8080/"
        },
        "id": "nHo-pNWZSN1r",
        "outputId": "1c11be89-700f-4666-d81f-0ac8eaf56f0e"
      },
      "source": [
        "items = []\n",
        "for i, (_, row) in enumerate(b.iterrows()):\n",
        "    item = {}\n",
        "    item['premise'] = [row['premise'].split()]             \n",
        "    item['hypothesis'] =  [row['hypothesis'].split()]    \n",
        "    item['label'] = [row['label']]\n",
        "    items.append(item)\n",
        "\n",
        "items[0]"
      ],
      "execution_count": 68,
      "outputs": [
        {
          "output_type": "execute_result",
          "data": {
            "text/plain": [
              "{'hypothesis': [['the',\n",
              "   'rules',\n",
              "   'developed',\n",
              "   'in',\n",
              "   'the',\n",
              "   'interim',\n",
              "   'were',\n",
              "   'put',\n",
              "   'together',\n",
              "   'with',\n",
              "   'these',\n",
              "   'comments',\n",
              "   'in',\n",
              "   'mind']],\n",
              " 'label': ['Entailment'],\n",
              " 'premise': [['and',\n",
              "   'these',\n",
              "   'comments',\n",
              "   'were',\n",
              "   'considered',\n",
              "   'in',\n",
              "   'formulating',\n",
              "   'the',\n",
              "   'interim',\n",
              "   'rules']]}"
            ]
          },
          "metadata": {},
          "execution_count": 68
        }
      ]
    },
    {
      "cell_type": "code",
      "metadata": {
        "id": "pyV6SOq-SN1s"
      },
      "source": [
        "STC = SparseTensorClassifier(targets=['label'], features=['premise','hypothesis'])"
      ],
      "execution_count": 69,
      "outputs": []
    },
    {
      "cell_type": "code",
      "metadata": {
        "colab": {
          "base_uri": "https://localhost:8080/"
        },
        "id": "ID7uv1wrSN1s",
        "outputId": "c4285a62-0198-4ada-c3b8-811dd4ef6c5c"
      },
      "source": [
        "STC.fit(items[0:70])"
      ],
      "execution_count": 70,
      "outputs": [
        {
          "output_type": "stream",
          "name": "stdout",
          "text": [
            "[============================================================] 100.0% Fitting (00:00:00.02/00:00:00.02)\r"
          ]
        }
      ]
    },
    {
      "cell_type": "code",
      "metadata": {
        "colab": {
          "base_uri": "https://localhost:8080/"
        },
        "id": "Dvl1CdfSSN1s",
        "outputId": "790e1055-43d1-4271-8f71-0372d4a6dfd1"
      },
      "source": [
        "labels, probability, explain = STC.predict(items[5000:])"
      ],
      "execution_count": 71,
      "outputs": [
        {
          "output_type": "stream",
          "name": "stdout",
          "text": [
            ""
          ]
        }
      ]
    },
    {
      "cell_type": "code",
      "metadata": {
        "colab": {
          "base_uri": "https://localhost:8080/"
        },
        "id": "qluRnM-pSN1s",
        "outputId": "d7b0617a-c33d-4fb3-ed9e-23b7a84556b8"
      },
      "source": [
        "accuracy_score(b['label'][5000:], labels)"
      ],
      "execution_count": 72,
      "outputs": [
        {
          "output_type": "execute_result",
          "data": {
            "text/plain": [
              "0.3433155080213904"
            ]
          },
          "metadata": {},
          "execution_count": 72
        }
      ]
    }
  ]
}